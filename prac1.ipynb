{
  "nbformat": 4,
  "nbformat_minor": 0,
  "metadata": {
    "colab": {
      "name": "Untitled0.ipynb",
      "provenance": [],
      "collapsed_sections": [],
      "toc_visible": true,
      "authorship_tag": "ABX9TyNrKy+rG7PCNwG7ehn/+qBj",
      "include_colab_link": true
    },
    "kernelspec": {
      "name": "python3",
      "display_name": "Python 3"
    },
    "language_info": {
      "name": "python"
    }
  },
  "cells": [
    {
      "cell_type": "markdown",
      "metadata": {
        "id": "view-in-github",
        "colab_type": "text"
      },
      "source": [
        "<a href=\"https://colab.research.google.com/github/JJaeuk/Python-practice/blob/main/Untitled0.ipynb\" target=\"_parent\"><img src=\"https://colab.research.google.com/assets/colab-badge.svg\" alt=\"Open In Colab\"/></a>"
      ]
    },
    {
      "cell_type": "markdown",
      "source": [
        "# Colab"
      ],
      "metadata": {
        "id": "D7r_EYj-GFFS"
      }
    },
    {
      "cell_type": "markdown",
      "source": [
        "Google Colab 활용 및 파이썬예제"
      ],
      "metadata": {
        "id": "0YGce-AyGSI6"
      }
    },
    {
      "cell_type": "code",
      "source": [
        "\"\"\"\n",
        "111111111\n",
        "여러줄 주석달기할땐\n",
        "문서 시작부분에 이렇게\n",
        "\"\"\"\n",
        "\n",
        "print(\"AAAA\")\n",
        "\n",
        "# 여러줄 한번에 주석할땐 Ctrl+/\n",
        "# 11\n"
      ],
      "metadata": {
        "colab": {
          "base_uri": "https://localhost:8080/"
        },
        "id": "wkBmr_KDGQmM",
        "outputId": "a25458c3-b3a4-4e48-85f6-5b12103feb2a"
      },
      "execution_count": 21,
      "outputs": [
        {
          "output_type": "stream",
          "name": "stdout",
          "text": [
            "AAAA\n"
          ]
        }
      ]
    },
    {
      "cell_type": "code",
      "source": [
        "for i in [1,2,3]:\n",
        "  print(i)"
      ],
      "metadata": {
        "colab": {
          "base_uri": "https://localhost:8080/"
        },
        "id": "5XGh77yDGajT",
        "outputId": "7847e32a-4ce3-4f19-de1b-69575376b06e"
      },
      "execution_count": 3,
      "outputs": [
        {
          "output_type": "stream",
          "name": "stdout",
          "text": [
            "1\n",
            "2\n",
            "3\n"
          ]
        }
      ]
    },
    {
      "cell_type": "code",
      "source": [
        "a = \"AAA\" + \"BBB\"\n",
        "print(a)"
      ],
      "metadata": {
        "colab": {
          "base_uri": "https://localhost:8080/"
        },
        "id": "ulN63PsiGkzr",
        "outputId": "2d66f5b7-9e5a-4c3e-be35-16d51128392b"
      },
      "execution_count": 4,
      "outputs": [
        {
          "output_type": "stream",
          "name": "stdout",
          "text": [
            "AAABBB\n"
          ]
        }
      ]
    },
    {
      "cell_type": "code",
      "source": [
        "b = a + \"CCC\"\n",
        "print(b)"
      ],
      "metadata": {
        "colab": {
          "base_uri": "https://localhost:8080/"
        },
        "id": "3U5IFV94G2xy",
        "outputId": "14a928c5-b00b-47c4-c59c-8f32f01c5fe0"
      },
      "execution_count": 5,
      "outputs": [
        {
          "output_type": "stream",
          "name": "stdout",
          "text": [
            "AAABBBCCC\n"
          ]
        }
      ]
    },
    {
      "cell_type": "markdown",
      "source": [
        "---\n",
        "\n",
        "* 라인마다 실행결과 보여주고 저장돼있다.\n",
        "\n",
        "---\n",
        "\n",
        "\n",
        "\n"
      ],
      "metadata": {
        "id": "wK7Ikx7OG_Rz"
      }
    },
    {
      "cell_type": "code",
      "source": [
        "print(b[3])"
      ],
      "metadata": {
        "colab": {
          "base_uri": "https://localhost:8080/"
        },
        "id": "ybwymwYnG7Oa",
        "outputId": "e9d16c50-c477-439e-acbb-1d1e37e05271"
      },
      "execution_count": 6,
      "outputs": [
        {
          "output_type": "stream",
          "name": "stdout",
          "text": [
            "B\n"
          ]
        }
      ]
    },
    {
      "cell_type": "code",
      "source": [
        "print(\"I don't know why typing %20s\" % b)  # 포맷코드\n",
        "print(\"I eat {0} apples\".format(3))        # format 함수를 사용한 포매팅\n",
        "print(\"I eat {0} apples\".format(b))\n",
        "print(\"I eat {0} apples\".format(\"three\"))\n",
        "print(\"{0:<10}\".format(\"hi\"))  # 왼쪽정렬\n",
        "print(\"{0:>10}\".format(\"hi\"))  # 오른쪽정렬\n",
        "print(\"{0:^10}\".format(\"hi\"))  # 가운데정렬\n",
        "print(\"{0:=^10}\".format(\"hi\")) # 가운데정렬 - 채우기\n",
        "print(\"{0:!<10}\".format(\"hi\")) # 왼쪽정렬 - 채우기"
      ],
      "metadata": {
        "colab": {
          "base_uri": "https://localhost:8080/"
        },
        "id": "vZqZuLfQHYi7",
        "outputId": "acf4e9b5-f1ac-4bfc-9675-90ee32b92ae5"
      },
      "execution_count": 24,
      "outputs": [
        {
          "output_type": "stream",
          "name": "stdout",
          "text": [
            "I don't know why typing            AAABBBCCC\n",
            "I eat 3 apples\n",
            "I eat AAABBBCCC apples\n",
            "I eat three apples\n",
            "hi        \n",
            "        hi\n",
            "    hi    \n",
            "====hi====\n",
            "hi!!!!!!!!\n"
          ]
        }
      ]
    },
    {
      "cell_type": "code",
      "source": [
        "money = 300    # if else\n",
        "if(money < 30):\n",
        "  print(\"noob\")\n",
        "else:\n",
        "  print(\"zz\")"
      ],
      "metadata": {
        "colab": {
          "base_uri": "https://localhost:8080/"
        },
        "id": "Nqo4HODPHuaq",
        "outputId": "f0455296-83cd-4c18-a29c-ed648bac9729"
      },
      "execution_count": 16,
      "outputs": [
        {
          "output_type": "stream",
          "name": "stdout",
          "text": [
            "zz\n"
          ]
        }
      ]
    },
    {
      "cell_type": "code",
      "source": [
        "def add(a, b):   # 함수\n",
        "    return a + b\n",
        "\n",
        "print(add(1,3))"
      ],
      "metadata": {
        "colab": {
          "base_uri": "https://localhost:8080/"
        },
        "id": "bI-NoWDQIVpc",
        "outputId": "07ffb61e-84c0-45f5-eb1f-c0723252a67c"
      },
      "execution_count": 15,
      "outputs": [
        {
          "output_type": "stream",
          "name": "stdout",
          "text": [
            "4\n"
          ]
        }
      ]
    },
    {
      "cell_type": "code",
      "source": [
        "number = input(\"숫자를 입력하세요: \")"
      ],
      "metadata": {
        "colab": {
          "base_uri": "https://localhost:8080/"
        },
        "id": "XOkFiSqRK5jT",
        "outputId": "66ba9bbd-264c-4758-d8fb-3e4d4184b528"
      },
      "execution_count": 11,
      "outputs": [
        {
          "name": "stdout",
          "output_type": "stream",
          "text": [
            "숫자를 입력하세요: 30\n"
          ]
        }
      ]
    },
    {
      "cell_type": "code",
      "source": [
        "print(number)"
      ],
      "metadata": {
        "colab": {
          "base_uri": "https://localhost:8080/"
        },
        "id": "dldmB3noLK5a",
        "outputId": "71d73c9d-932f-4ea3-8df0-13ada9e0e13f"
      },
      "execution_count": 12,
      "outputs": [
        {
          "output_type": "stream",
          "name": "stdout",
          "text": [
            "30\n"
          ]
        }
      ]
    },
    {
      "cell_type": "code",
      "source": [
        "for i in range(10):\n",
        "  print(i, end=' ')  # 한 줄에 출력하기"
      ],
      "metadata": {
        "colab": {
          "base_uri": "https://localhost:8080/"
        },
        "id": "NiyB0icrLOCi",
        "outputId": "9f775d48-27dd-47fa-915e-769b7b4214e8"
      },
      "execution_count": 14,
      "outputs": [
        {
          "output_type": "stream",
          "name": "stdout",
          "text": [
            "0 1 2 3 4 5 6 7 8 9 "
          ]
        }
      ]
    },
    {
      "cell_type": "code",
      "source": [
        "# 클래스\n",
        "class Calculator:         # 계산기 클래스\n",
        "    def __init__(self):   # 초기값 설정\n",
        "        self.result = 0\n",
        "\n",
        "    def add(self, num):  \n",
        "        self.result += num\n",
        "        return self.result\n",
        "\n",
        "cal1 = Calculator()       # 만들어둔 클래스로 찍어내기\n",
        "cal2 = Calculator()\n",
        "\n",
        "print(cal1.add(3))\n",
        "print(cal1.add(4))\n",
        "print(cal2.add(3))\n",
        "print(cal2.add(7))"
      ],
      "metadata": {
        "colab": {
          "base_uri": "https://localhost:8080/"
        },
        "id": "18GEJYk4Lbil",
        "outputId": "4a0da976-6487-4d72-c232-071fa92b834c"
      },
      "execution_count": 26,
      "outputs": [
        {
          "output_type": "stream",
          "name": "stdout",
          "text": [
            "3\n",
            "7\n",
            "3\n",
            "10\n"
          ]
        }
      ]
    },
    {
      "cell_type": "code",
      "source": [
        "class Cal:\n",
        "\n",
        "  def setdata(self, first, second):\n",
        "    self.first = first\n",
        "    self.second = second\n",
        "\n",
        "  def add(self):\n",
        "    result = self.first + self.second\n",
        "    return result\n",
        "  def mul(self):\n",
        "    result = self.first * self.second\n",
        "    return result\n",
        "  def sub(self):\n",
        "    result = self.first - self.second\n",
        "    return result\n",
        "  def div(self):\n",
        "    result = self.first / self.second\n",
        "    return result\n",
        "\n",
        "a = Cal()   # 생성자 이용\n",
        "b = Cal()\n",
        "c = Cal()\n",
        "\n",
        "a.setdata(5,6)\n",
        "b.setdata(3,5)\n",
        "c.setdata(20,3)\n",
        "\n",
        "print(a.add())\n",
        "print(b.sub())\n",
        "print(c.div())\n"
      ],
      "metadata": {
        "colab": {
          "base_uri": "https://localhost:8080/"
        },
        "id": "2RbiuUwpOWqZ",
        "outputId": "b9988166-b555-4ee7-d730-08b23bc9afbe"
      },
      "execution_count": 33,
      "outputs": [
        {
          "output_type": "stream",
          "name": "stdout",
          "text": [
            "11\n",
            "-2\n",
            "6.666666666666667\n"
          ]
        }
      ]
    },
    {
      "cell_type": "code",
      "source": [
        "# 생성자 이용 -> setdata 필요없음\n",
        "class Cal:\n",
        "\n",
        "  def __init__(self, first, second):   # 생성자 -> 객체가 생성될 때 setdata 할수있음\n",
        "    self.first = first\n",
        "    self.second = second\n",
        "\n",
        "  def add(self):\n",
        "    result = self.first + self.second\n",
        "    return result\n",
        "  def mul(self):\n",
        "    result = self.first * self.second\n",
        "    return result\n",
        "  def sub(self):\n",
        "    result = self.first - self.second\n",
        "    return result\n",
        "  def div(self):\n",
        "    result = self.first / self.second\n",
        "    return result\n",
        "\n",
        "a = Cal(5,6)   # 생성자 이용\n",
        "b = Cal(3,5)\n",
        "c = Cal(20,4)\n",
        "\n",
        "print(a.add())\n",
        "print(b.sub())\n",
        "print(c.div())"
      ],
      "metadata": {
        "colab": {
          "base_uri": "https://localhost:8080/"
        },
        "id": "inEe2WDpPK2a",
        "outputId": "c1ec0a3a-8951-4edf-e1c9-d611db65054d"
      },
      "execution_count": 34,
      "outputs": [
        {
          "output_type": "stream",
          "name": "stdout",
          "text": [
            "11\n",
            "-2\n",
            "5.0\n"
          ]
        }
      ]
    },
    {
      "cell_type": "code",
      "source": [
        ""
      ],
      "metadata": {
        "id": "9ITH51TQRMS6"
      },
      "execution_count": null,
      "outputs": []
    }
  ]
}
